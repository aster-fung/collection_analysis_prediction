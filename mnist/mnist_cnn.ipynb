{
 "cells": [
  {
   "cell_type": "code",
   "execution_count": 1,
   "id": "d4f6f664-b5a9-467a-aee1-7b32f9dbce92",
   "metadata": {},
   "outputs": [
    {
     "data": {
      "text/plain": [
       "'3.9.12'"
      ]
     },
     "execution_count": 1,
     "metadata": {},
     "output_type": "execute_result"
    }
   ],
   "source": [
    "from platform import python_version\n",
    "python_version()"
   ]
  },
  {
   "cell_type": "code",
   "execution_count": 2,
   "id": "07b4d0f2-f8ee-4bf5-823d-b17162e5ea0a",
   "metadata": {},
   "outputs": [
    {
     "name": "stdout",
     "output_type": "stream",
     "text": [
      "Num GPUs Available:  1\n"
     ]
    }
   ],
   "source": [
    "import tensorflow as tf\n",
    "print(\"Num GPUs Available: \", len(tf.config.list_physical_devices('GPU')))"
   ]
  },
  {
   "cell_type": "code",
   "execution_count": 3,
   "id": "1423633a-855c-4e09-b074-63ea350e5a5b",
   "metadata": {},
   "outputs": [],
   "source": [
    "import pandas as pd\n",
    "import sklearn\n",
    "import matplotlib.pyplot as plt\n",
    "import seaborn as sns\n",
    "import tensorflow as tf\n",
    "from tensorflow.keras.datasets import mnist\n",
    "from tensorflow.keras.utils import to_categorical"
   ]
  },
  {
   "cell_type": "code",
   "execution_count": 4,
   "id": "2c0c1072-5afb-4e4e-90d5-7499a289a005",
   "metadata": {},
   "outputs": [
    {
     "data": {
      "text/plain": [
       "'2.9.1'"
      ]
     },
     "execution_count": 4,
     "metadata": {},
     "output_type": "execute_result"
    }
   ],
   "source": [
    "tf.__version__"
   ]
  },
  {
   "cell_type": "code",
   "execution_count": 5,
   "id": "e2def619-ecb2-49d8-bd48-90019dcbf35d",
   "metadata": {},
   "outputs": [
    {
     "data": {
      "text/plain": [
       "\u001b[1;31mType:\u001b[0m        module\n",
       "\u001b[1;31mString form:\u001b[0m <module 'keras.api._v2.keras.datasets.mnist' from 'C:\\\\Users\\\\User\\\\miniconda3\\\\envs\\\\venv2\\\\lib\\\\site-packages\\\\keras\\\\api\\\\_v2\\\\keras\\\\datasets\\\\mnist\\\\__init__.py'>\n",
       "\u001b[1;31mFile:\u001b[0m        c:\\users\\user\\miniconda3\\envs\\venv2\\lib\\site-packages\\keras\\api\\_v2\\keras\\datasets\\mnist\\__init__.py\n",
       "\u001b[1;31mDocstring:\u001b[0m   MNIST handwritten digits dataset.\n"
      ]
     },
     "metadata": {},
     "output_type": "display_data"
    }
   ],
   "source": [
    "mnist?"
   ]
  },
  {
   "cell_type": "code",
   "execution_count": 6,
   "id": "c9cd237a-19d1-4400-9fc0-02933b382d43",
   "metadata": {},
   "outputs": [],
   "source": [
    "(X_train, y_train), (X_valid, y_valid) = mnist.load_data()"
   ]
  },
  {
   "cell_type": "code",
   "execution_count": 7,
   "id": "78f88575-2665-49fa-beac-d10baf5e0100",
   "metadata": {},
   "outputs": [],
   "source": [
    "X_train = X_train.reshape(60000, 28,28,1).astype('float32')\n",
    "X_val= X_valid.reshape(10000, 28,28,1).astype('float32')"
   ]
  },
  {
   "cell_type": "code",
   "execution_count": 8,
   "id": "89f7588b-09f1-4109-a58c-54b1f684802a",
   "metadata": {},
   "outputs": [],
   "source": [
    "X_train /= .255\n",
    "X_val /= .255"
   ]
  },
  {
   "cell_type": "code",
   "execution_count": 9,
   "id": "92918268-a8df-431c-9666-ef32221041a5",
   "metadata": {},
   "outputs": [],
   "source": [
    "n_class = 10\n",
    "y_train = to_categorical(y_train, n_class)\n",
    "y_val = to_categorical(y_valid, n_class)"
   ]
  },
  {
   "cell_type": "code",
   "execution_count": 10,
   "id": "0650feea-173c-4d03-bd9e-b127beea4d71",
   "metadata": {},
   "outputs": [],
   "source": [
    "# network architecture\n",
    "\n",
    "model = tf.keras.models.Sequential(\n",
    "    [\n",
    "        tf.keras.layers.Conv2D(32, kernel_size=(3,3), activation = 'relu', input_shape = (28,28,1)),\n",
    "        tf.keras.layers.Conv2D(64,kernel_size= (3,3), activation = 'relu'),\n",
    "        tf.keras.layers.MaxPool2D(pool_size = (2,2)),\n",
    "        tf.keras.layers.Dropout(0.25),\n",
    "        tf.keras.layers.Flatten(),\n",
    "        tf.keras.layers.Dense(128, activation = 'relu'),\n",
    "        tf.keras.layers.Dropout(0.5),\n",
    "        tf.keras.layers.Dense(n_class, activation = 'softmax')\n",
    "    ]\n",
    ")"
   ]
  },
  {
   "cell_type": "code",
   "execution_count": 11,
   "id": "77bd4ca6-c08a-4139-89d3-c62934f96df5",
   "metadata": {},
   "outputs": [
    {
     "name": "stdout",
     "output_type": "stream",
     "text": [
      "Model: \"sequential\"\n",
      "_________________________________________________________________\n",
      " Layer (type)                Output Shape              Param #   \n",
      "=================================================================\n",
      " conv2d (Conv2D)             (None, 26, 26, 32)        320       \n",
      "                                                                 \n",
      " conv2d_1 (Conv2D)           (None, 24, 24, 64)        18496     \n",
      "                                                                 \n",
      " max_pooling2d (MaxPooling2D  (None, 12, 12, 64)       0         \n",
      " )                                                               \n",
      "                                                                 \n",
      " dropout (Dropout)           (None, 12, 12, 64)        0         \n",
      "                                                                 \n",
      " flatten (Flatten)           (None, 9216)              0         \n",
      "                                                                 \n",
      " dense (Dense)               (None, 128)               1179776   \n",
      "                                                                 \n",
      " dropout_1 (Dropout)         (None, 128)               0         \n",
      "                                                                 \n",
      " dense_1 (Dense)             (None, 10)                1290      \n",
      "                                                                 \n",
      "=================================================================\n",
      "Total params: 1,199,882\n",
      "Trainable params: 1,199,882\n",
      "Non-trainable params: 0\n",
      "_________________________________________________________________\n"
     ]
    }
   ],
   "source": [
    "model.summary()"
   ]
  },
  {
   "cell_type": "code",
   "execution_count": 12,
   "id": "052cf06d-f322-4830-87fd-698a46c96ed5",
   "metadata": {},
   "outputs": [],
   "source": [
    "model.compile(loss = 'categorical_crossentropy', optimizer= 'nadam', metrics = ['accuracy'])"
   ]
  },
  {
   "cell_type": "code",
   "execution_count": 13,
   "id": "7106664a-cb61-4f07-bd1b-9f28601411d5",
   "metadata": {},
   "outputs": [
    {
     "name": "stdout",
     "output_type": "stream",
     "text": [
      "Epoch 1/15\n",
      "469/469 [==============================] - 10s 18ms/step - loss: 2.0139 - accuracy: 0.6291 - val_loss: 0.2199 - val_accuracy: 0.9443\n",
      "Epoch 2/15\n",
      "469/469 [==============================] - 8s 17ms/step - loss: 0.4240 - accuracy: 0.8810 - val_loss: 0.1120 - val_accuracy: 0.9700\n",
      "Epoch 3/15\n",
      "469/469 [==============================] - 8s 17ms/step - loss: 0.2648 - accuracy: 0.9273 - val_loss: 0.0796 - val_accuracy: 0.9756\n",
      "Epoch 4/15\n",
      "469/469 [==============================] - 8s 17ms/step - loss: 0.1943 - accuracy: 0.9444 - val_loss: 0.0745 - val_accuracy: 0.9789\n",
      "Epoch 5/15\n",
      "469/469 [==============================] - 8s 17ms/step - loss: 0.1530 - accuracy: 0.9567 - val_loss: 0.0574 - val_accuracy: 0.9849\n",
      "Epoch 6/15\n",
      "469/469 [==============================] - 8s 17ms/step - loss: 0.1376 - accuracy: 0.9615 - val_loss: 0.0614 - val_accuracy: 0.9848\n",
      "Epoch 7/15\n",
      "469/469 [==============================] - 8s 17ms/step - loss: 0.1169 - accuracy: 0.9669 - val_loss: 0.0463 - val_accuracy: 0.9878\n",
      "Epoch 8/15\n",
      "469/469 [==============================] - 8s 16ms/step - loss: 0.1008 - accuracy: 0.9714 - val_loss: 0.0468 - val_accuracy: 0.9870\n",
      "Epoch 9/15\n",
      "469/469 [==============================] - 8s 17ms/step - loss: 0.0897 - accuracy: 0.9737 - val_loss: 0.0491 - val_accuracy: 0.9875\n",
      "Epoch 10/15\n",
      "469/469 [==============================] - 8s 17ms/step - loss: 0.0912 - accuracy: 0.9745 - val_loss: 0.0465 - val_accuracy: 0.9891\n",
      "Epoch 11/15\n",
      "469/469 [==============================] - 8s 17ms/step - loss: 0.0810 - accuracy: 0.9757 - val_loss: 0.0461 - val_accuracy: 0.9875\n",
      "Epoch 12/15\n",
      "469/469 [==============================] - 8s 17ms/step - loss: 0.0743 - accuracy: 0.9773 - val_loss: 0.0408 - val_accuracy: 0.9897\n",
      "Epoch 13/15\n",
      "469/469 [==============================] - 8s 17ms/step - loss: 0.0705 - accuracy: 0.9792 - val_loss: 0.0556 - val_accuracy: 0.9869\n",
      "Epoch 14/15\n",
      "469/469 [==============================] - 8s 17ms/step - loss: 0.0692 - accuracy: 0.9802 - val_loss: 0.0525 - val_accuracy: 0.9883\n",
      "Epoch 15/15\n",
      "469/469 [==============================] - 8s 17ms/step - loss: 0.0619 - accuracy: 0.9813 - val_loss: 0.0446 - val_accuracy: 0.9889\n"
     ]
    }
   ],
   "source": [
    "history = model.fit(X_train, y_train, \n",
    "         batch_size = 128,\n",
    "         epochs = 15, verbose= 1,\n",
    "         validation_data = (X_val, y_val))"
   ]
  },
  {
   "cell_type": "code",
   "execution_count": 14,
   "id": "73d0110f-3b31-4a36-a3b4-1b948b6ad6aa",
   "metadata": {},
   "outputs": [
    {
     "data": {
      "text/plain": [
       "<matplotlib.legend.Legend at 0x1fabed30910>"
      ]
     },
     "execution_count": 14,
     "metadata": {},
     "output_type": "execute_result"
    },
    {
     "data": {
      "image/png": "[encoded data removed]",
      "text/plain": [
       "<Figure size 432x288 with 1 Axes>"
      ]
     },
     "metadata": {
      "needs_background": "light"
     },
     "output_type": "display_data"
    }
   ],
   "source": [
    "plt.plot(history.history['loss'], label='training loss')\n",
    "plt.plot(history.history['val_loss'], label='validation loss')\n",
    "plt.xlabel('Epoch')\n",
    "plt.ylabel('Loss')\n",
    "plt.legend()"
   ]
  }
 ],
 "metadata": {
  "kernelspec": {
   "display_name": "Python 3 (ipykernel)",
   "language": "python",
   "name": "python3"
  },
  "language_info": {
   "codemirror_mode": {
    "name": "ipython",
    "version": 3
   },
   "file_extension": ".py",
   "mimetype": "text/x-python",
   "name": "python",
   "nbconvert_exporter": "python",
   "pygments_lexer": "ipython3",
   "version": "3.9.12"
  }
 },
 "nbformat": 4,
 "nbformat_minor": 5
}

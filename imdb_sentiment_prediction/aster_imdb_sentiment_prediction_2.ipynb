{
 "cells": [
  {
   "cell_type": "code",
   "execution_count": 83,
   "id": "c183b9a3-96d2-4178-a901-6537c450ef67",
   "metadata": {},
   "outputs": [
    {
     "name": "stderr",
     "output_type": "stream",
     "text": [
      "[nltk_data] Downloading package punkt to\n",
      "[nltk_data]     C:\\Users\\User\\AppData\\Roaming\\nltk_data...\n",
      "[nltk_data]   Package punkt is already up-to-date!\n"
     ]
    },
    {
     "data": {
      "text/plain": [
       "True"
      ]
     },
     "execution_count": 83,
     "metadata": {},
     "output_type": "execute_result"
    }
   ],
   "source": [
    "import numpy as np\n",
    "import pandas as pd\n",
    "import matplotlib.pyplot as plt\n",
    "import seaborn as sns\n",
    "import nltk\n",
    "from nltk.tokenize import word_tokenize\n",
    "from gensim.corpora.dictionary import Dictionary as gdict\n",
    "from sklearn.model_selection import train_test_split\n",
    "import tensorflow as tf\n",
    "\n",
    "\n",
    "nltk.download('punkt')"
   ]
  },
  {
   "cell_type": "code",
   "execution_count": 2,
   "id": "2d70f6c7-8ef7-47b8-86ff-80cd846f1678",
   "metadata": {},
   "outputs": [],
   "source": [
    "df_raw = pd.read_csv('IMDBDataset.csv')"
   ]
  },
  {
   "cell_type": "code",
   "execution_count": 3,
   "id": "0db1eed2-598b-4f94-8e9e-49492467605f",
   "metadata": {},
   "outputs": [
    {
     "data": {
      "text/plain": [
       "(50000, 2)"
      ]
     },
     "execution_count": 3,
     "metadata": {},
     "output_type": "execute_result"
    }
   ],
   "source": [
    "df_raw.shape"
   ]
  },
  {
   "cell_type": "code",
   "execution_count": 4,
   "id": "2be8139a-fceb-442f-b00d-d2942072dc5d",
   "metadata": {},
   "outputs": [
    {
     "data": {
      "text/html": [
       "<div>\n",
       "<style scoped>\n",
       "    .dataframe tbody tr th:only-of-type {\n",
       "        vertical-align: middle;\n",
       "    }\n",
       "\n",
       "    .dataframe tbody tr th {\n",
       "        vertical-align: top;\n",
       "    }\n",
       "\n",
       "    .dataframe thead th {\n",
       "        text-align: right;\n",
       "    }\n",
       "</style>\n",
       "<table border=\"1\" class=\"dataframe\">\n",
       "  <thead>\n",
       "    <tr style=\"text-align: right;\">\n",
       "      <th></th>\n",
       "      <th>review</th>\n",
       "      <th>sentiment</th>\n",
       "    </tr>\n",
       "  </thead>\n",
       "  <tbody>\n",
       "    <tr>\n",
       "      <th>0</th>\n",
       "      <td>One of the other reviewers has mentioned that ...</td>\n",
       "      <td>positive</td>\n",
       "    </tr>\n",
       "    <tr>\n",
       "      <th>1</th>\n",
       "      <td>A wonderful little production. &lt;br /&gt;&lt;br /&gt;The...</td>\n",
       "      <td>positive</td>\n",
       "    </tr>\n",
       "    <tr>\n",
       "      <th>2</th>\n",
       "      <td>I thought this was a wonderful way to spend ti...</td>\n",
       "      <td>positive</td>\n",
       "    </tr>\n",
       "    <tr>\n",
       "      <th>3</th>\n",
       "      <td>Basically there's a family where a little boy ...</td>\n",
       "      <td>negative</td>\n",
       "    </tr>\n",
       "    <tr>\n",
       "      <th>4</th>\n",
       "      <td>Petter Mattei's \"Love in the Time of Money\" is...</td>\n",
       "      <td>positive</td>\n",
       "    </tr>\n",
       "  </tbody>\n",
       "</table>\n",
       "</div>"
      ],
      "text/plain": [
       "                                              review sentiment\n",
       "0  One of the other reviewers has mentioned that ...  positive\n",
       "1  A wonderful little production. <br /><br />The...  positive\n",
       "2  I thought this was a wonderful way to spend ti...  positive\n",
       "3  Basically there's a family where a little boy ...  negative\n",
       "4  Petter Mattei's \"Love in the Time of Money\" is...  positive"
      ]
     },
     "execution_count": 4,
     "metadata": {},
     "output_type": "execute_result"
    }
   ],
   "source": [
    "df_raw.head()"
   ]
  },
  {
   "cell_type": "code",
   "execution_count": 47,
   "id": "4dab7173-3fb9-4c7b-8d20-c6d96a7da61a",
   "metadata": {},
   "outputs": [
    {
     "data": {
      "text/plain": [
       "positive    25000\n",
       "negative    25000\n",
       "Name: sentiment, dtype: int64"
      ]
     },
     "execution_count": 47,
     "metadata": {},
     "output_type": "execute_result"
    }
   ],
   "source": [
    "df_raw['sentiment'].value_counts()"
   ]
  },
  {
   "cell_type": "markdown",
   "id": "45629e10-ae7b-4ce9-99a0-687bf1279f77",
   "metadata": {},
   "source": [
    "# Data preparation"
   ]
  },
  {
   "cell_type": "code",
   "execution_count": 5,
   "id": "9fb3e840-8662-44fa-9fd2-e47f6e3dffa1",
   "metadata": {},
   "outputs": [],
   "source": [
    "df = df_raw.copy()"
   ]
  },
  {
   "cell_type": "code",
   "execution_count": 6,
   "id": "ff99cc2d-02e7-40b5-8c84-4dde389ece37",
   "metadata": {},
   "outputs": [],
   "source": [
    "# map sentiment into binary variables\n",
    "\n",
    "binary_map =  {'negative':0, 'positive': 1}\n",
    "df['sentiment'] = df['sentiment'].map(binary_map)"
   ]
  },
  {
   "cell_type": "code",
   "execution_count": 7,
   "id": "baec2d0f-3960-4dec-8de8-eb841572cc0c",
   "metadata": {},
   "outputs": [],
   "source": [
    "reviews_raw = df['review']"
   ]
  },
  {
   "cell_type": "code",
   "execution_count": 8,
   "id": "d3f51586-6237-4e66-bfd1-f00cf288e805",
   "metadata": {},
   "outputs": [
    {
     "data": {
      "text/plain": [
       "0        One of the other reviewers has mentioned that ...\n",
       "1        A wonderful little production. <br /><br />The...\n",
       "2        I thought this was a wonderful way to spend ti...\n",
       "3        Basically there's a family where a little boy ...\n",
       "4        Petter Mattei's \"Love in the Time of Money\" is...\n",
       "                               ...                        \n",
       "49995    I thought this movie did a down right good job...\n",
       "49996    Bad plot, bad dialogue, bad acting, idiotic di...\n",
       "49997    I am a Catholic taught in parochial elementary...\n",
       "49998    I'm going to have to disagree with the previou...\n",
       "49999    No one expects the Star Trek movies to be high...\n",
       "Name: review, Length: 50000, dtype: object"
      ]
     },
     "execution_count": 8,
     "metadata": {},
     "output_type": "execute_result"
    }
   ],
   "source": [
    "reviews_raw"
   ]
  },
  {
   "cell_type": "code",
   "execution_count": 9,
   "id": "1f518576-9bea-4e36-9778-d650e2205adb",
   "metadata": {},
   "outputs": [
    {
     "data": {
      "text/plain": [
       "1    25000\n",
       "0    25000\n",
       "Name: sentiment, dtype: int64"
      ]
     },
     "execution_count": 9,
     "metadata": {},
     "output_type": "execute_result"
    }
   ],
   "source": [
    "df['sentiment'].value_counts()"
   ]
  },
  {
   "cell_type": "code",
   "execution_count": 10,
   "id": "c104a302-63db-4984-b8d5-036d6eca6c5e",
   "metadata": {},
   "outputs": [],
   "source": [
    "def convert_lower(text):\n",
    "    return text.lower()"
   ]
  },
  {
   "cell_type": "code",
   "execution_count": 11,
   "id": "32e3e679-ffbb-4e68-8435-c89166aba4ab",
   "metadata": {
    "tags": []
   },
   "outputs": [],
   "source": [
    "df['review'] = df['review'].apply(convert_lower)"
   ]
  },
  {
   "cell_type": "code",
   "execution_count": 12,
   "id": "38fef91b-c2d6-4634-b5c3-862a9e618320",
   "metadata": {},
   "outputs": [
    {
     "data": {
      "text/html": [
       "<div>\n",
       "<style scoped>\n",
       "    .dataframe tbody tr th:only-of-type {\n",
       "        vertical-align: middle;\n",
       "    }\n",
       "\n",
       "    .dataframe tbody tr th {\n",
       "        vertical-align: top;\n",
       "    }\n",
       "\n",
       "    .dataframe thead th {\n",
       "        text-align: right;\n",
       "    }\n",
       "</style>\n",
       "<table border=\"1\" class=\"dataframe\">\n",
       "  <thead>\n",
       "    <tr style=\"text-align: right;\">\n",
       "      <th></th>\n",
       "      <th>review</th>\n",
       "      <th>sentiment</th>\n",
       "    </tr>\n",
       "  </thead>\n",
       "  <tbody>\n",
       "    <tr>\n",
       "      <th>0</th>\n",
       "      <td>one of the other reviewers has mentioned that ...</td>\n",
       "      <td>1</td>\n",
       "    </tr>\n",
       "    <tr>\n",
       "      <th>1</th>\n",
       "      <td>a wonderful little production. &lt;br /&gt;&lt;br /&gt;the...</td>\n",
       "      <td>1</td>\n",
       "    </tr>\n",
       "    <tr>\n",
       "      <th>2</th>\n",
       "      <td>i thought this was a wonderful way to spend ti...</td>\n",
       "      <td>1</td>\n",
       "    </tr>\n",
       "    <tr>\n",
       "      <th>3</th>\n",
       "      <td>basically there's a family where a little boy ...</td>\n",
       "      <td>0</td>\n",
       "    </tr>\n",
       "    <tr>\n",
       "      <th>4</th>\n",
       "      <td>petter mattei's \"love in the time of money\" is...</td>\n",
       "      <td>1</td>\n",
       "    </tr>\n",
       "  </tbody>\n",
       "</table>\n",
       "</div>"
      ],
      "text/plain": [
       "                                              review  sentiment\n",
       "0  one of the other reviewers has mentioned that ...          1\n",
       "1  a wonderful little production. <br /><br />the...          1\n",
       "2  i thought this was a wonderful way to spend ti...          1\n",
       "3  basically there's a family where a little boy ...          0\n",
       "4  petter mattei's \"love in the time of money\" is...          1"
      ]
     },
     "execution_count": 12,
     "metadata": {},
     "output_type": "execute_result"
    }
   ],
   "source": [
    "df.head()"
   ]
  },
  {
   "cell_type": "markdown",
   "id": "aab076d7-3c14-4491-ab1b-cf25e9a75fc2",
   "metadata": {},
   "source": [
    "# Tokenize to map the words into integers"
   ]
  },
  {
   "cell_type": "code",
   "execution_count": 14,
   "id": "fdba92ee",
   "metadata": {},
   "outputs": [],
   "source": [
    "df[\"review\"] = df[\"review\"].map(lambda x: x.split(' '))"
   ]
  },
  {
   "cell_type": "code",
   "execution_count": 15,
   "id": "976d9fbf-54c8-46ac-b1e7-f48b212613ee",
   "metadata": {
    "tags": []
   },
   "outputs": [],
   "source": [
    "my_dict = gdict(df['review'])"
   ]
  },
  {
   "cell_type": "code",
   "execution_count": 16,
   "id": "2ea065fa-05f6-4012-8ad6-d9a85ff05475",
   "metadata": {},
   "outputs": [
    {
     "data": {
      "text/plain": [
       "392053"
      ]
     },
     "execution_count": 16,
     "metadata": {},
     "output_type": "execute_result"
    }
   ],
   "source": [
    "len(my_dict)"
   ]
  },
  {
   "cell_type": "code",
   "execution_count": 17,
   "id": "b2206d04-8401-4a64-816f-028540cb9186",
   "metadata": {},
   "outputs": [],
   "source": [
    "my_dict.filter_extremes(no_below=1, no_above=1, keep_n=5000)"
   ]
  },
  {
   "cell_type": "code",
   "execution_count": 18,
   "id": "9c9bf87e-44c3-437a-a6f1-1018aceca61f",
   "metadata": {},
   "outputs": [],
   "source": [
    "df[\"bow\"] = df[\"review\"].map(my_dict.doc2bow)"
   ]
  },
  {
   "cell_type": "code",
   "execution_count": 19,
   "id": "8a9d1e33-3083-4df8-a8bc-2fa8858d86a9",
   "metadata": {},
   "outputs": [
    {
     "data": {
      "text/html": [
       "<div>\n",
       "<style scoped>\n",
       "    .dataframe tbody tr th:only-of-type {\n",
       "        vertical-align: middle;\n",
       "    }\n",
       "\n",
       "    .dataframe tbody tr th {\n",
       "        vertical-align: top;\n",
       "    }\n",
       "\n",
       "    .dataframe thead th {\n",
       "        text-align: right;\n",
       "    }\n",
       "</style>\n",
       "<table border=\"1\" class=\"dataframe\">\n",
       "  <thead>\n",
       "    <tr style=\"text-align: right;\">\n",
       "      <th></th>\n",
       "      <th>review</th>\n",
       "      <th>sentiment</th>\n",
       "      <th>bow</th>\n",
       "    </tr>\n",
       "  </thead>\n",
       "  <tbody>\n",
       "    <tr>\n",
       "      <th>0</th>\n",
       "      <td>[one, of, the, other, reviewers, has, mentione...</td>\n",
       "      <td>1</td>\n",
       "      <td>[(0, 3), (1, 1), (2, 1), (3, 1), (4, 1), (5, 3...</td>\n",
       "    </tr>\n",
       "    <tr>\n",
       "      <th>1</th>\n",
       "      <td>[a, wonderful, little, production., &lt;br, /&gt;&lt;br...</td>\n",
       "      <td>1</td>\n",
       "      <td>[(0, 3), (3, 3), (5, 4), (6, 1), (8, 2), (10, ...</td>\n",
       "    </tr>\n",
       "    <tr>\n",
       "      <th>2</th>\n",
       "      <td>[i, thought, this, was, a, wonderful, way, to,...</td>\n",
       "      <td>1</td>\n",
       "      <td>[(0, 2), (5, 6), (10, 4), (12, 1), (16, 2), (1...</td>\n",
       "    </tr>\n",
       "    <tr>\n",
       "      <th>3</th>\n",
       "      <td>[basically, there's, a, family, where, a, litt...</td>\n",
       "      <td>0</td>\n",
       "      <td>[(0, 3), (5, 10), (8, 3), (10, 4), (12, 2), (1...</td>\n",
       "    </tr>\n",
       "    <tr>\n",
       "      <th>4</th>\n",
       "      <td>[petter, mattei's, \"love, in, the, time, of, m...</td>\n",
       "      <td>1</td>\n",
       "      <td>[(0, 4), (3, 2), (5, 6), (6, 2), (8, 2), (10, ...</td>\n",
       "    </tr>\n",
       "  </tbody>\n",
       "</table>\n",
       "</div>"
      ],
      "text/plain": [
       "                                              review  sentiment  \\\n",
       "0  [one, of, the, other, reviewers, has, mentione...          1   \n",
       "1  [a, wonderful, little, production., <br, /><br...          1   \n",
       "2  [i, thought, this, was, a, wonderful, way, to,...          1   \n",
       "3  [basically, there's, a, family, where, a, litt...          0   \n",
       "4  [petter, mattei's, \"love, in, the, time, of, m...          1   \n",
       "\n",
       "                                                 bow  \n",
       "0  [(0, 3), (1, 1), (2, 1), (3, 1), (4, 1), (5, 3...  \n",
       "1  [(0, 3), (3, 3), (5, 4), (6, 1), (8, 2), (10, ...  \n",
       "2  [(0, 2), (5, 6), (10, 4), (12, 1), (16, 2), (1...  \n",
       "3  [(0, 3), (5, 10), (8, 3), (10, 4), (12, 2), (1...  \n",
       "4  [(0, 4), (3, 2), (5, 6), (6, 2), (8, 2), (10, ...  "
      ]
     },
     "execution_count": 19,
     "metadata": {},
     "output_type": "execute_result"
    }
   ],
   "source": [
    "df.head()"
   ]
  },
  {
   "cell_type": "code",
   "execution_count": 20,
   "id": "3cec3b09-159a-473c-bee3-8318604b55ec",
   "metadata": {},
   "outputs": [],
   "source": [
    "df2 = pd.concat([pd.DataFrame(s).set_index(0) for s in df[\"bow\"]], axis=1).fillna(0).T.set_index(df.index)"
   ]
  },
  {
   "cell_type": "code",
   "execution_count": 21,
   "id": "9a8a69c6-2cc0-4822-9ddb-0e118a69b996",
   "metadata": {
    "tags": []
   },
   "outputs": [
    {
     "data": {
      "text/html": [
       "<div>\n",
       "<style scoped>\n",
       "    .dataframe tbody tr th:only-of-type {\n",
       "        vertical-align: middle;\n",
       "    }\n",
       "\n",
       "    .dataframe tbody tr th {\n",
       "        vertical-align: top;\n",
       "    }\n",
       "\n",
       "    .dataframe thead th {\n",
       "        text-align: right;\n",
       "    }\n",
       "</style>\n",
       "<table border=\"1\" class=\"dataframe\">\n",
       "  <thead>\n",
       "    <tr style=\"text-align: right;\">\n",
       "      <th></th>\n",
       "      <th>0</th>\n",
       "      <th>1</th>\n",
       "      <th>2</th>\n",
       "      <th>3</th>\n",
       "      <th>4</th>\n",
       "      <th>5</th>\n",
       "      <th>6</th>\n",
       "      <th>7</th>\n",
       "      <th>8</th>\n",
       "      <th>9</th>\n",
       "      <th>...</th>\n",
       "      <th>4990</th>\n",
       "      <th>4991</th>\n",
       "      <th>4992</th>\n",
       "      <th>4993</th>\n",
       "      <th>4994</th>\n",
       "      <th>4995</th>\n",
       "      <th>4996</th>\n",
       "      <th>4997</th>\n",
       "      <th>4998</th>\n",
       "      <th>4999</th>\n",
       "    </tr>\n",
       "  </thead>\n",
       "  <tbody>\n",
       "    <tr>\n",
       "      <th>0</th>\n",
       "      <td>3.0</td>\n",
       "      <td>1.0</td>\n",
       "      <td>1.0</td>\n",
       "      <td>1.0</td>\n",
       "      <td>1.0</td>\n",
       "      <td>3.0</td>\n",
       "      <td>1.0</td>\n",
       "      <td>1.0</td>\n",
       "      <td>1.0</td>\n",
       "      <td>1.0</td>\n",
       "      <td>...</td>\n",
       "      <td>0.0</td>\n",
       "      <td>0.0</td>\n",
       "      <td>0.0</td>\n",
       "      <td>0.0</td>\n",
       "      <td>0.0</td>\n",
       "      <td>0.0</td>\n",
       "      <td>0.0</td>\n",
       "      <td>0.0</td>\n",
       "      <td>0.0</td>\n",
       "      <td>0.0</td>\n",
       "    </tr>\n",
       "    <tr>\n",
       "      <th>1</th>\n",
       "      <td>3.0</td>\n",
       "      <td>0.0</td>\n",
       "      <td>0.0</td>\n",
       "      <td>3.0</td>\n",
       "      <td>0.0</td>\n",
       "      <td>4.0</td>\n",
       "      <td>1.0</td>\n",
       "      <td>0.0</td>\n",
       "      <td>2.0</td>\n",
       "      <td>0.0</td>\n",
       "      <td>...</td>\n",
       "      <td>0.0</td>\n",
       "      <td>0.0</td>\n",
       "      <td>0.0</td>\n",
       "      <td>0.0</td>\n",
       "      <td>0.0</td>\n",
       "      <td>0.0</td>\n",
       "      <td>0.0</td>\n",
       "      <td>0.0</td>\n",
       "      <td>0.0</td>\n",
       "      <td>0.0</td>\n",
       "    </tr>\n",
       "    <tr>\n",
       "      <th>2</th>\n",
       "      <td>2.0</td>\n",
       "      <td>0.0</td>\n",
       "      <td>0.0</td>\n",
       "      <td>0.0</td>\n",
       "      <td>0.0</td>\n",
       "      <td>6.0</td>\n",
       "      <td>0.0</td>\n",
       "      <td>0.0</td>\n",
       "      <td>0.0</td>\n",
       "      <td>0.0</td>\n",
       "      <td>...</td>\n",
       "      <td>0.0</td>\n",
       "      <td>0.0</td>\n",
       "      <td>0.0</td>\n",
       "      <td>0.0</td>\n",
       "      <td>0.0</td>\n",
       "      <td>0.0</td>\n",
       "      <td>0.0</td>\n",
       "      <td>0.0</td>\n",
       "      <td>0.0</td>\n",
       "      <td>0.0</td>\n",
       "    </tr>\n",
       "    <tr>\n",
       "      <th>3</th>\n",
       "      <td>3.0</td>\n",
       "      <td>0.0</td>\n",
       "      <td>0.0</td>\n",
       "      <td>0.0</td>\n",
       "      <td>0.0</td>\n",
       "      <td>10.0</td>\n",
       "      <td>0.0</td>\n",
       "      <td>0.0</td>\n",
       "      <td>3.0</td>\n",
       "      <td>0.0</td>\n",
       "      <td>...</td>\n",
       "      <td>0.0</td>\n",
       "      <td>0.0</td>\n",
       "      <td>0.0</td>\n",
       "      <td>0.0</td>\n",
       "      <td>0.0</td>\n",
       "      <td>0.0</td>\n",
       "      <td>0.0</td>\n",
       "      <td>0.0</td>\n",
       "      <td>0.0</td>\n",
       "      <td>0.0</td>\n",
       "    </tr>\n",
       "    <tr>\n",
       "      <th>4</th>\n",
       "      <td>4.0</td>\n",
       "      <td>0.0</td>\n",
       "      <td>0.0</td>\n",
       "      <td>2.0</td>\n",
       "      <td>0.0</td>\n",
       "      <td>6.0</td>\n",
       "      <td>2.0</td>\n",
       "      <td>0.0</td>\n",
       "      <td>2.0</td>\n",
       "      <td>0.0</td>\n",
       "      <td>...</td>\n",
       "      <td>0.0</td>\n",
       "      <td>0.0</td>\n",
       "      <td>0.0</td>\n",
       "      <td>0.0</td>\n",
       "      <td>0.0</td>\n",
       "      <td>0.0</td>\n",
       "      <td>0.0</td>\n",
       "      <td>0.0</td>\n",
       "      <td>0.0</td>\n",
       "      <td>0.0</td>\n",
       "    </tr>\n",
       "  </tbody>\n",
       "</table>\n",
       "<p>5 rows × 5000 columns</p>\n",
       "</div>"
      ],
      "text/plain": [
       "0  0     1     2     3     4     5     6     7     8     9     ...  4990  \\\n",
       "0   3.0   1.0   1.0   1.0   1.0   3.0   1.0   1.0   1.0   1.0  ...   0.0   \n",
       "1   3.0   0.0   0.0   3.0   0.0   4.0   1.0   0.0   2.0   0.0  ...   0.0   \n",
       "2   2.0   0.0   0.0   0.0   0.0   6.0   0.0   0.0   0.0   0.0  ...   0.0   \n",
       "3   3.0   0.0   0.0   0.0   0.0  10.0   0.0   0.0   3.0   0.0  ...   0.0   \n",
       "4   4.0   0.0   0.0   2.0   0.0   6.0   2.0   0.0   2.0   0.0  ...   0.0   \n",
       "\n",
       "0  4991  4992  4993  4994  4995  4996  4997  4998  4999  \n",
       "0   0.0   0.0   0.0   0.0   0.0   0.0   0.0   0.0   0.0  \n",
       "1   0.0   0.0   0.0   0.0   0.0   0.0   0.0   0.0   0.0  \n",
       "2   0.0   0.0   0.0   0.0   0.0   0.0   0.0   0.0   0.0  \n",
       "3   0.0   0.0   0.0   0.0   0.0   0.0   0.0   0.0   0.0  \n",
       "4   0.0   0.0   0.0   0.0   0.0   0.0   0.0   0.0   0.0  \n",
       "\n",
       "[5 rows x 5000 columns]"
      ]
     },
     "execution_count": 21,
     "metadata": {},
     "output_type": "execute_result"
    }
   ],
   "source": [
    "df2.head()"
   ]
  },
  {
   "cell_type": "code",
   "execution_count": 22,
   "id": "0d1454b0-b9e7-4085-8e5f-9ede6fe89af9",
   "metadata": {},
   "outputs": [
    {
     "data": {
      "text/html": [
       "<div>\n",
       "<style scoped>\n",
       "    .dataframe tbody tr th:only-of-type {\n",
       "        vertical-align: middle;\n",
       "    }\n",
       "\n",
       "    .dataframe tbody tr th {\n",
       "        vertical-align: top;\n",
       "    }\n",
       "\n",
       "    .dataframe thead th {\n",
       "        text-align: right;\n",
       "    }\n",
       "</style>\n",
       "<table border=\"1\" class=\"dataframe\">\n",
       "  <thead>\n",
       "    <tr style=\"text-align: right;\">\n",
       "      <th></th>\n",
       "      <th>0</th>\n",
       "      <th>1</th>\n",
       "      <th>2</th>\n",
       "      <th>3</th>\n",
       "      <th>4</th>\n",
       "      <th>5</th>\n",
       "      <th>6</th>\n",
       "      <th>7</th>\n",
       "      <th>8</th>\n",
       "      <th>9</th>\n",
       "      <th>...</th>\n",
       "      <th>4990</th>\n",
       "      <th>4991</th>\n",
       "      <th>4992</th>\n",
       "      <th>4993</th>\n",
       "      <th>4994</th>\n",
       "      <th>4995</th>\n",
       "      <th>4996</th>\n",
       "      <th>4997</th>\n",
       "      <th>4998</th>\n",
       "      <th>4999</th>\n",
       "    </tr>\n",
       "  </thead>\n",
       "  <tbody>\n",
       "    <tr>\n",
       "      <th>0</th>\n",
       "      <td>3</td>\n",
       "      <td>1</td>\n",
       "      <td>1</td>\n",
       "      <td>1</td>\n",
       "      <td>1</td>\n",
       "      <td>3</td>\n",
       "      <td>1</td>\n",
       "      <td>1</td>\n",
       "      <td>1</td>\n",
       "      <td>1</td>\n",
       "      <td>...</td>\n",
       "      <td>0</td>\n",
       "      <td>0</td>\n",
       "      <td>0</td>\n",
       "      <td>0</td>\n",
       "      <td>0</td>\n",
       "      <td>0</td>\n",
       "      <td>0</td>\n",
       "      <td>0</td>\n",
       "      <td>0</td>\n",
       "      <td>0</td>\n",
       "    </tr>\n",
       "    <tr>\n",
       "      <th>1</th>\n",
       "      <td>3</td>\n",
       "      <td>0</td>\n",
       "      <td>0</td>\n",
       "      <td>3</td>\n",
       "      <td>0</td>\n",
       "      <td>4</td>\n",
       "      <td>1</td>\n",
       "      <td>0</td>\n",
       "      <td>2</td>\n",
       "      <td>0</td>\n",
       "      <td>...</td>\n",
       "      <td>0</td>\n",
       "      <td>0</td>\n",
       "      <td>0</td>\n",
       "      <td>0</td>\n",
       "      <td>0</td>\n",
       "      <td>0</td>\n",
       "      <td>0</td>\n",
       "      <td>0</td>\n",
       "      <td>0</td>\n",
       "      <td>0</td>\n",
       "    </tr>\n",
       "    <tr>\n",
       "      <th>2</th>\n",
       "      <td>2</td>\n",
       "      <td>0</td>\n",
       "      <td>0</td>\n",
       "      <td>0</td>\n",
       "      <td>0</td>\n",
       "      <td>6</td>\n",
       "      <td>0</td>\n",
       "      <td>0</td>\n",
       "      <td>0</td>\n",
       "      <td>0</td>\n",
       "      <td>...</td>\n",
       "      <td>0</td>\n",
       "      <td>0</td>\n",
       "      <td>0</td>\n",
       "      <td>0</td>\n",
       "      <td>0</td>\n",
       "      <td>0</td>\n",
       "      <td>0</td>\n",
       "      <td>0</td>\n",
       "      <td>0</td>\n",
       "      <td>0</td>\n",
       "    </tr>\n",
       "    <tr>\n",
       "      <th>3</th>\n",
       "      <td>3</td>\n",
       "      <td>0</td>\n",
       "      <td>0</td>\n",
       "      <td>0</td>\n",
       "      <td>0</td>\n",
       "      <td>10</td>\n",
       "      <td>0</td>\n",
       "      <td>0</td>\n",
       "      <td>3</td>\n",
       "      <td>0</td>\n",
       "      <td>...</td>\n",
       "      <td>0</td>\n",
       "      <td>0</td>\n",
       "      <td>0</td>\n",
       "      <td>0</td>\n",
       "      <td>0</td>\n",
       "      <td>0</td>\n",
       "      <td>0</td>\n",
       "      <td>0</td>\n",
       "      <td>0</td>\n",
       "      <td>0</td>\n",
       "    </tr>\n",
       "    <tr>\n",
       "      <th>4</th>\n",
       "      <td>4</td>\n",
       "      <td>0</td>\n",
       "      <td>0</td>\n",
       "      <td>2</td>\n",
       "      <td>0</td>\n",
       "      <td>6</td>\n",
       "      <td>2</td>\n",
       "      <td>0</td>\n",
       "      <td>2</td>\n",
       "      <td>0</td>\n",
       "      <td>...</td>\n",
       "      <td>0</td>\n",
       "      <td>0</td>\n",
       "      <td>0</td>\n",
       "      <td>0</td>\n",
       "      <td>0</td>\n",
       "      <td>0</td>\n",
       "      <td>0</td>\n",
       "      <td>0</td>\n",
       "      <td>0</td>\n",
       "      <td>0</td>\n",
       "    </tr>\n",
       "    <tr>\n",
       "      <th>...</th>\n",
       "      <td>...</td>\n",
       "      <td>...</td>\n",
       "      <td>...</td>\n",
       "      <td>...</td>\n",
       "      <td>...</td>\n",
       "      <td>...</td>\n",
       "      <td>...</td>\n",
       "      <td>...</td>\n",
       "      <td>...</td>\n",
       "      <td>...</td>\n",
       "      <td>...</td>\n",
       "      <td>...</td>\n",
       "      <td>...</td>\n",
       "      <td>...</td>\n",
       "      <td>...</td>\n",
       "      <td>...</td>\n",
       "      <td>...</td>\n",
       "      <td>...</td>\n",
       "      <td>...</td>\n",
       "      <td>...</td>\n",
       "      <td>...</td>\n",
       "    </tr>\n",
       "    <tr>\n",
       "      <th>49995</th>\n",
       "      <td>2</td>\n",
       "      <td>0</td>\n",
       "      <td>0</td>\n",
       "      <td>0</td>\n",
       "      <td>0</td>\n",
       "      <td>5</td>\n",
       "      <td>1</td>\n",
       "      <td>0</td>\n",
       "      <td>0</td>\n",
       "      <td>0</td>\n",
       "      <td>...</td>\n",
       "      <td>0</td>\n",
       "      <td>0</td>\n",
       "      <td>0</td>\n",
       "      <td>0</td>\n",
       "      <td>0</td>\n",
       "      <td>0</td>\n",
       "      <td>0</td>\n",
       "      <td>0</td>\n",
       "      <td>0</td>\n",
       "      <td>0</td>\n",
       "    </tr>\n",
       "    <tr>\n",
       "      <th>49996</th>\n",
       "      <td>2</td>\n",
       "      <td>0</td>\n",
       "      <td>0</td>\n",
       "      <td>1</td>\n",
       "      <td>0</td>\n",
       "      <td>3</td>\n",
       "      <td>0</td>\n",
       "      <td>0</td>\n",
       "      <td>1</td>\n",
       "      <td>0</td>\n",
       "      <td>...</td>\n",
       "      <td>0</td>\n",
       "      <td>0</td>\n",
       "      <td>0</td>\n",
       "      <td>0</td>\n",
       "      <td>0</td>\n",
       "      <td>0</td>\n",
       "      <td>0</td>\n",
       "      <td>0</td>\n",
       "      <td>0</td>\n",
       "      <td>0</td>\n",
       "    </tr>\n",
       "    <tr>\n",
       "      <th>49997</th>\n",
       "      <td>2</td>\n",
       "      <td>0</td>\n",
       "      <td>0</td>\n",
       "      <td>0</td>\n",
       "      <td>0</td>\n",
       "      <td>7</td>\n",
       "      <td>0</td>\n",
       "      <td>0</td>\n",
       "      <td>1</td>\n",
       "      <td>1</td>\n",
       "      <td>...</td>\n",
       "      <td>0</td>\n",
       "      <td>0</td>\n",
       "      <td>0</td>\n",
       "      <td>0</td>\n",
       "      <td>0</td>\n",
       "      <td>0</td>\n",
       "      <td>0</td>\n",
       "      <td>0</td>\n",
       "      <td>0</td>\n",
       "      <td>0</td>\n",
       "    </tr>\n",
       "    <tr>\n",
       "      <th>49998</th>\n",
       "      <td>0</td>\n",
       "      <td>0</td>\n",
       "      <td>0</td>\n",
       "      <td>0</td>\n",
       "      <td>0</td>\n",
       "      <td>3</td>\n",
       "      <td>1</td>\n",
       "      <td>0</td>\n",
       "      <td>1</td>\n",
       "      <td>0</td>\n",
       "      <td>...</td>\n",
       "      <td>0</td>\n",
       "      <td>0</td>\n",
       "      <td>0</td>\n",
       "      <td>0</td>\n",
       "      <td>0</td>\n",
       "      <td>0</td>\n",
       "      <td>0</td>\n",
       "      <td>0</td>\n",
       "      <td>0</td>\n",
       "      <td>0</td>\n",
       "    </tr>\n",
       "    <tr>\n",
       "      <th>49999</th>\n",
       "      <td>1</td>\n",
       "      <td>1</td>\n",
       "      <td>0</td>\n",
       "      <td>0</td>\n",
       "      <td>0</td>\n",
       "      <td>3</td>\n",
       "      <td>1</td>\n",
       "      <td>0</td>\n",
       "      <td>1</td>\n",
       "      <td>0</td>\n",
       "      <td>...</td>\n",
       "      <td>0</td>\n",
       "      <td>0</td>\n",
       "      <td>0</td>\n",
       "      <td>0</td>\n",
       "      <td>0</td>\n",
       "      <td>0</td>\n",
       "      <td>0</td>\n",
       "      <td>0</td>\n",
       "      <td>0</td>\n",
       "      <td>0</td>\n",
       "    </tr>\n",
       "  </tbody>\n",
       "</table>\n",
       "<p>50000 rows × 5000 columns</p>\n",
       "</div>"
      ],
      "text/plain": [
       "0      0     1     2     3     4     5     6     7     8     9     ...  4990  \\\n",
       "0         3     1     1     1     1     3     1     1     1     1  ...     0   \n",
       "1         3     0     0     3     0     4     1     0     2     0  ...     0   \n",
       "2         2     0     0     0     0     6     0     0     0     0  ...     0   \n",
       "3         3     0     0     0     0    10     0     0     3     0  ...     0   \n",
       "4         4     0     0     2     0     6     2     0     2     0  ...     0   \n",
       "...     ...   ...   ...   ...   ...   ...   ...   ...   ...   ...  ...   ...   \n",
       "49995     2     0     0     0     0     5     1     0     0     0  ...     0   \n",
       "49996     2     0     0     1     0     3     0     0     1     0  ...     0   \n",
       "49997     2     0     0     0     0     7     0     0     1     1  ...     0   \n",
       "49998     0     0     0     0     0     3     1     0     1     0  ...     0   \n",
       "49999     1     1     0     0     0     3     1     0     1     0  ...     0   \n",
       "\n",
       "0      4991  4992  4993  4994  4995  4996  4997  4998  4999  \n",
       "0         0     0     0     0     0     0     0     0     0  \n",
       "1         0     0     0     0     0     0     0     0     0  \n",
       "2         0     0     0     0     0     0     0     0     0  \n",
       "3         0     0     0     0     0     0     0     0     0  \n",
       "4         0     0     0     0     0     0     0     0     0  \n",
       "...     ...   ...   ...   ...   ...   ...   ...   ...   ...  \n",
       "49995     0     0     0     0     0     0     0     0     0  \n",
       "49996     0     0     0     0     0     0     0     0     0  \n",
       "49997     0     0     0     0     0     0     0     0     0  \n",
       "49998     0     0     0     0     0     0     0     0     0  \n",
       "49999     0     0     0     0     0     0     0     0     0  \n",
       "\n",
       "[50000 rows x 5000 columns]"
      ]
     },
     "execution_count": 22,
     "metadata": {},
     "output_type": "execute_result"
    }
   ],
   "source": [
    "df2.astype('int32')"
   ]
  },
  {
   "cell_type": "code",
   "execution_count": 23,
   "id": "6fa2fa2d-12ba-4be0-932e-d31938b8b0ef",
   "metadata": {},
   "outputs": [
    {
     "data": {
      "text/plain": [
       "(50000, 5000)"
      ]
     },
     "execution_count": 23,
     "metadata": {},
     "output_type": "execute_result"
    }
   ],
   "source": [
    "df2.shape"
   ]
  },
  {
   "cell_type": "code",
   "execution_count": 24,
   "id": "c8b5d968-157c-40bc-8d00-cb20e9af0be9",
   "metadata": {},
   "outputs": [
    {
     "data": {
      "text/plain": [
       "0        1\n",
       "1        1\n",
       "2        1\n",
       "3        0\n",
       "4        1\n",
       "        ..\n",
       "49995    1\n",
       "49996    0\n",
       "49997    0\n",
       "49998    0\n",
       "49999    0\n",
       "Name: sentiment, Length: 50000, dtype: int64"
      ]
     },
     "execution_count": 24,
     "metadata": {},
     "output_type": "execute_result"
    }
   ],
   "source": [
    "df['sentiment']"
   ]
  },
  {
   "cell_type": "code",
   "execution_count": 90,
   "id": "37e7f718-801a-46b2-a9a8-104ca51ae322",
   "metadata": {
    "tags": []
   },
   "outputs": [],
   "source": [
    "df_preprocessed = pd.concat([df2,df['sentiment']], axis=1)"
   ]
  },
  {
   "cell_type": "code",
   "execution_count": 91,
   "id": "a25d7cd5-4a59-4a19-8520-19c28b06aad8",
   "metadata": {},
   "outputs": [
    {
     "name": "stdout",
     "output_type": "stream",
     "text": [
      "<class 'pandas.core.frame.DataFrame'>\n",
      "RangeIndex: 50000 entries, 0 to 49999\n",
      "Columns: 5001 entries, 0 to sentiment\n",
      "dtypes: float64(5000), int64(1)\n",
      "memory usage: 1.9 GB\n"
     ]
    }
   ],
   "source": [
    "df_preprocessed.info()"
   ]
  },
  {
   "cell_type": "code",
   "execution_count": 92,
   "id": "5b70f614-6ce0-4952-9ad1-452a17fd1332",
   "metadata": {},
   "outputs": [
    {
     "data": {
      "text/html": [
       "<div>\n",
       "<style scoped>\n",
       "    .dataframe tbody tr th:only-of-type {\n",
       "        vertical-align: middle;\n",
       "    }\n",
       "\n",
       "    .dataframe tbody tr th {\n",
       "        vertical-align: top;\n",
       "    }\n",
       "\n",
       "    .dataframe thead th {\n",
       "        text-align: right;\n",
       "    }\n",
       "</style>\n",
       "<table border=\"1\" class=\"dataframe\">\n",
       "  <thead>\n",
       "    <tr style=\"text-align: right;\">\n",
       "      <th></th>\n",
       "      <th>0</th>\n",
       "      <th>1</th>\n",
       "      <th>2</th>\n",
       "      <th>3</th>\n",
       "      <th>4</th>\n",
       "      <th>5</th>\n",
       "      <th>6</th>\n",
       "      <th>7</th>\n",
       "      <th>8</th>\n",
       "      <th>9</th>\n",
       "      <th>...</th>\n",
       "      <th>4991</th>\n",
       "      <th>4992</th>\n",
       "      <th>4993</th>\n",
       "      <th>4994</th>\n",
       "      <th>4995</th>\n",
       "      <th>4996</th>\n",
       "      <th>4997</th>\n",
       "      <th>4998</th>\n",
       "      <th>4999</th>\n",
       "      <th>sentiment</th>\n",
       "    </tr>\n",
       "  </thead>\n",
       "  <tbody>\n",
       "    <tr>\n",
       "      <th>0</th>\n",
       "      <td>3.0</td>\n",
       "      <td>1.0</td>\n",
       "      <td>1.0</td>\n",
       "      <td>1.0</td>\n",
       "      <td>1.0</td>\n",
       "      <td>3.0</td>\n",
       "      <td>1.0</td>\n",
       "      <td>1.0</td>\n",
       "      <td>1.0</td>\n",
       "      <td>1.0</td>\n",
       "      <td>...</td>\n",
       "      <td>0.0</td>\n",
       "      <td>0.0</td>\n",
       "      <td>0.0</td>\n",
       "      <td>0.0</td>\n",
       "      <td>0.0</td>\n",
       "      <td>0.0</td>\n",
       "      <td>0.0</td>\n",
       "      <td>0.0</td>\n",
       "      <td>0.0</td>\n",
       "      <td>1</td>\n",
       "    </tr>\n",
       "    <tr>\n",
       "      <th>1</th>\n",
       "      <td>3.0</td>\n",
       "      <td>0.0</td>\n",
       "      <td>0.0</td>\n",
       "      <td>3.0</td>\n",
       "      <td>0.0</td>\n",
       "      <td>4.0</td>\n",
       "      <td>1.0</td>\n",
       "      <td>0.0</td>\n",
       "      <td>2.0</td>\n",
       "      <td>0.0</td>\n",
       "      <td>...</td>\n",
       "      <td>0.0</td>\n",
       "      <td>0.0</td>\n",
       "      <td>0.0</td>\n",
       "      <td>0.0</td>\n",
       "      <td>0.0</td>\n",
       "      <td>0.0</td>\n",
       "      <td>0.0</td>\n",
       "      <td>0.0</td>\n",
       "      <td>0.0</td>\n",
       "      <td>1</td>\n",
       "    </tr>\n",
       "    <tr>\n",
       "      <th>2</th>\n",
       "      <td>2.0</td>\n",
       "      <td>0.0</td>\n",
       "      <td>0.0</td>\n",
       "      <td>0.0</td>\n",
       "      <td>0.0</td>\n",
       "      <td>6.0</td>\n",
       "      <td>0.0</td>\n",
       "      <td>0.0</td>\n",
       "      <td>0.0</td>\n",
       "      <td>0.0</td>\n",
       "      <td>...</td>\n",
       "      <td>0.0</td>\n",
       "      <td>0.0</td>\n",
       "      <td>0.0</td>\n",
       "      <td>0.0</td>\n",
       "      <td>0.0</td>\n",
       "      <td>0.0</td>\n",
       "      <td>0.0</td>\n",
       "      <td>0.0</td>\n",
       "      <td>0.0</td>\n",
       "      <td>1</td>\n",
       "    </tr>\n",
       "    <tr>\n",
       "      <th>3</th>\n",
       "      <td>3.0</td>\n",
       "      <td>0.0</td>\n",
       "      <td>0.0</td>\n",
       "      <td>0.0</td>\n",
       "      <td>0.0</td>\n",
       "      <td>10.0</td>\n",
       "      <td>0.0</td>\n",
       "      <td>0.0</td>\n",
       "      <td>3.0</td>\n",
       "      <td>0.0</td>\n",
       "      <td>...</td>\n",
       "      <td>0.0</td>\n",
       "      <td>0.0</td>\n",
       "      <td>0.0</td>\n",
       "      <td>0.0</td>\n",
       "      <td>0.0</td>\n",
       "      <td>0.0</td>\n",
       "      <td>0.0</td>\n",
       "      <td>0.0</td>\n",
       "      <td>0.0</td>\n",
       "      <td>0</td>\n",
       "    </tr>\n",
       "    <tr>\n",
       "      <th>4</th>\n",
       "      <td>4.0</td>\n",
       "      <td>0.0</td>\n",
       "      <td>0.0</td>\n",
       "      <td>2.0</td>\n",
       "      <td>0.0</td>\n",
       "      <td>6.0</td>\n",
       "      <td>2.0</td>\n",
       "      <td>0.0</td>\n",
       "      <td>2.0</td>\n",
       "      <td>0.0</td>\n",
       "      <td>...</td>\n",
       "      <td>0.0</td>\n",
       "      <td>0.0</td>\n",
       "      <td>0.0</td>\n",
       "      <td>0.0</td>\n",
       "      <td>0.0</td>\n",
       "      <td>0.0</td>\n",
       "      <td>0.0</td>\n",
       "      <td>0.0</td>\n",
       "      <td>0.0</td>\n",
       "      <td>1</td>\n",
       "    </tr>\n",
       "  </tbody>\n",
       "</table>\n",
       "<p>5 rows × 5001 columns</p>\n",
       "</div>"
      ],
      "text/plain": [
       "     0    1    2    3    4     5    6    7    8    9  ...  4991  4992  4993  \\\n",
       "0  3.0  1.0  1.0  1.0  1.0   3.0  1.0  1.0  1.0  1.0  ...   0.0   0.0   0.0   \n",
       "1  3.0  0.0  0.0  3.0  0.0   4.0  1.0  0.0  2.0  0.0  ...   0.0   0.0   0.0   \n",
       "2  2.0  0.0  0.0  0.0  0.0   6.0  0.0  0.0  0.0  0.0  ...   0.0   0.0   0.0   \n",
       "3  3.0  0.0  0.0  0.0  0.0  10.0  0.0  0.0  3.0  0.0  ...   0.0   0.0   0.0   \n",
       "4  4.0  0.0  0.0  2.0  0.0   6.0  2.0  0.0  2.0  0.0  ...   0.0   0.0   0.0   \n",
       "\n",
       "   4994  4995  4996  4997  4998  4999  sentiment  \n",
       "0   0.0   0.0   0.0   0.0   0.0   0.0          1  \n",
       "1   0.0   0.0   0.0   0.0   0.0   0.0          1  \n",
       "2   0.0   0.0   0.0   0.0   0.0   0.0          1  \n",
       "3   0.0   0.0   0.0   0.0   0.0   0.0          0  \n",
       "4   0.0   0.0   0.0   0.0   0.0   0.0          1  \n",
       "\n",
       "[5 rows x 5001 columns]"
      ]
     },
     "execution_count": 92,
     "metadata": {},
     "output_type": "execute_result"
    }
   ],
   "source": [
    "df_preprocessed.head()"
   ]
  },
  {
   "cell_type": "markdown",
   "id": "7c99ba2b-c821-42e1-8ca0-667874990c51",
   "metadata": {},
   "source": [
    "## Check balance"
   ]
  },
  {
   "cell_type": "code",
   "execution_count": 93,
   "id": "c9a20441-c613-4774-913f-1ff6d8111ff8",
   "metadata": {
    "tags": []
   },
   "outputs": [
    {
     "data": {
      "text/plain": [
       "1    25000\n",
       "0    25000\n",
       "Name: sentiment, dtype: int64"
      ]
     },
     "execution_count": 93,
     "metadata": {},
     "output_type": "execute_result"
    }
   ],
   "source": [
    "df_preprocessed['sentiment'].value_counts()"
   ]
  },
  {
   "cell_type": "code",
   "execution_count": 103,
   "id": "48e4bcf5-36ae-42db-876a-f7fe5c2d06ff",
   "metadata": {},
   "outputs": [],
   "source": [
    "sum_token = df_preprocessed.iloc[:, :5000].sum(axis=1)"
   ]
  },
  {
   "cell_type": "code",
   "execution_count": 104,
   "id": "f08a8edc-7fa8-4321-9d5a-4703d267d472",
   "metadata": {},
   "outputs": [],
   "source": [
    "df_check_token_balanced = pd.concat([sum_token, df_preprocessed['sentiment']], axis=1)"
   ]
  },
  {
   "cell_type": "code",
   "execution_count": 105,
   "id": "3b691f4c-ce2d-4e1f-9cb6-99cd455f639f",
   "metadata": {},
   "outputs": [
    {
     "data": {
      "text/plain": [
       "Index([0, 'sentiment'], dtype='object')"
      ]
     },
     "execution_count": 105,
     "metadata": {},
     "output_type": "execute_result"
    }
   ],
   "source": [
    "df_check_token_balanced.columns"
   ]
  },
  {
   "cell_type": "code",
   "execution_count": 106,
   "id": "c1dd72d5-a3c4-40de-bd86-bea82cd3b7b4",
   "metadata": {},
   "outputs": [
    {
     "data": {
      "text/plain": [
       "array([116.,   0.])"
      ]
     },
     "execution_count": 106,
     "metadata": {},
     "output_type": "execute_result"
    }
   ],
   "source": [
    "df_check_token_balanced.iloc[-1].unique()"
   ]
  },
  {
   "cell_type": "code",
   "execution_count": 107,
   "id": "b620bc74-0903-479a-8c65-1eccab2e9e90",
   "metadata": {},
   "outputs": [
    {
     "data": {
      "text/plain": [
       "0       sentiment\n",
       "117.0   1            212\n",
       "115.0   0            210\n",
       "111.0   0            207\n",
       "113.0   0            202\n",
       "119.0   0            197\n",
       "                    ... \n",
       "740.0   0              1\n",
       "741.0   1              1\n",
       "743.0   1              1\n",
       "744.0   1              1\n",
       "1909.0  1              1\n",
       "Length: 1676, dtype: int64"
      ]
     },
     "execution_count": 107,
     "metadata": {},
     "output_type": "execute_result"
    }
   ],
   "source": [
    "df_check_token_balanced.value_counts()"
   ]
  },
  {
   "cell_type": "code",
   "execution_count": 108,
   "id": "628e0fb7-c7e0-44af-bcd7-280307a8ccfe",
   "metadata": {},
   "outputs": [],
   "source": [
    "df_check_token_balanced.columns =['sum_token', 'sentiment']"
   ]
  },
  {
   "cell_type": "code",
   "execution_count": 109,
   "id": "b2db88c7-e9f8-4efa-b1c1-0a2d638b2bc8",
   "metadata": {},
   "outputs": [
    {
     "data": {
      "text/html": [
       "<div>\n",
       "<style scoped>\n",
       "    .dataframe tbody tr th:only-of-type {\n",
       "        vertical-align: middle;\n",
       "    }\n",
       "\n",
       "    .dataframe tbody tr th {\n",
       "        vertical-align: top;\n",
       "    }\n",
       "\n",
       "    .dataframe thead th {\n",
       "        text-align: right;\n",
       "    }\n",
       "</style>\n",
       "<table border=\"1\" class=\"dataframe\">\n",
       "  <thead>\n",
       "    <tr style=\"text-align: right;\">\n",
       "      <th></th>\n",
       "      <th>sum_token</th>\n",
       "      <th>sentiment</th>\n",
       "    </tr>\n",
       "  </thead>\n",
       "  <tbody>\n",
       "    <tr>\n",
       "      <th>0</th>\n",
       "      <td>248.0</td>\n",
       "      <td>1</td>\n",
       "    </tr>\n",
       "    <tr>\n",
       "      <th>1</th>\n",
       "      <td>133.0</td>\n",
       "      <td>1</td>\n",
       "    </tr>\n",
       "    <tr>\n",
       "      <th>2</th>\n",
       "      <td>140.0</td>\n",
       "      <td>1</td>\n",
       "    </tr>\n",
       "    <tr>\n",
       "      <th>3</th>\n",
       "      <td>117.0</td>\n",
       "      <td>0</td>\n",
       "    </tr>\n",
       "    <tr>\n",
       "      <th>4</th>\n",
       "      <td>193.0</td>\n",
       "      <td>1</td>\n",
       "    </tr>\n",
       "  </tbody>\n",
       "</table>\n",
       "</div>"
      ],
      "text/plain": [
       "   sum_token  sentiment\n",
       "0      248.0          1\n",
       "1      133.0          1\n",
       "2      140.0          1\n",
       "3      117.0          0\n",
       "4      193.0          1"
      ]
     },
     "execution_count": 109,
     "metadata": {},
     "output_type": "execute_result"
    }
   ],
   "source": [
    "df_check_token_balanced.head()"
   ]
  },
  {
   "cell_type": "code",
   "execution_count": 110,
   "id": "46bb243a-0e8b-4b74-9858-0657562623d4",
   "metadata": {},
   "outputs": [
    {
     "data": {
      "text/plain": [
       "<AxesSubplot:xlabel='sentiment', ylabel='sum_token'>"
      ]
     },
     "execution_count": 110,
     "metadata": {},
     "output_type": "execute_result"
    },
    {
     "data": {
      "image/png": "[encoded data removed]",
      "text/plain": [
       "<Figure size 432x288 with 1 Axes>"
      ]
     },
     "metadata": {
      "needs_background": "light"
     },
     "output_type": "display_data"
    }
   ],
   "source": [
    "sns.barplot(data = df_check_token_balanced, x = \"sentiment\" , y =\"sum_token\")"
   ]
  },
  {
   "cell_type": "markdown",
   "id": "4c121036-830b-4c2f-bc19-25aff3098d87",
   "metadata": {},
   "source": [
    "the dataset is balanced"
   ]
  },
  {
   "cell_type": "code",
   "execution_count": 112,
   "id": "b0e0fc0b-4071-4aaf-b33a-281a4f917685",
   "metadata": {},
   "outputs": [],
   "source": [
    "# this line takes 5mins+ and may use up all memories\n",
    "# df_preprocessed.to_csv('data_processed.csv', header=0)"
   ]
  },
  {
   "cell_type": "markdown",
   "id": "bff4162a-210c-4107-8e93-68fc81cb5b9a",
   "metadata": {
    "tags": []
   },
   "source": [
    "# Declaring observations and targets"
   ]
  },
  {
   "cell_type": "code",
   "execution_count": 28,
   "id": "cb488d81-0983-4af4-9684-0191e28c9120",
   "metadata": {},
   "outputs": [
    {
     "data": {
      "text/plain": [
       "(50000, 5001)"
      ]
     },
     "execution_count": 28,
     "metadata": {},
     "output_type": "execute_result"
    }
   ],
   "source": [
    "df_preprocessed.shape"
   ]
  },
  {
   "cell_type": "code",
   "execution_count": 29,
   "id": "7c718fbe-2172-44ad-9c9a-1ec189e02657",
   "metadata": {},
   "outputs": [
    {
     "data": {
      "text/plain": [
       "0            1.0\n",
       "1            1.0\n",
       "2            0.0\n",
       "3            0.0\n",
       "4            0.0\n",
       "            ... \n",
       "4996         0.0\n",
       "4997         0.0\n",
       "4998         0.0\n",
       "4999         0.0\n",
       "sentiment    0.0\n",
       "Name: 49999, Length: 5001, dtype: float64"
      ]
     },
     "execution_count": 29,
     "metadata": {},
     "output_type": "execute_result"
    }
   ],
   "source": [
    "df_preprocessed.iloc[-1]"
   ]
  },
  {
   "cell_type": "code",
   "execution_count": 30,
   "id": "52cb13fc-1f93-4942-a468-3f153bd8dee7",
   "metadata": {},
   "outputs": [],
   "source": [
    "X = df_preprocessed.iloc[:, :5000].copy()"
   ]
  },
  {
   "cell_type": "code",
   "execution_count": 31,
   "id": "61875c42-5449-4960-9e8a-47b36c1d0dfb",
   "metadata": {},
   "outputs": [],
   "source": [
    "y = df_preprocessed.iloc[:, -1].copy()"
   ]
  },
  {
   "cell_type": "code",
   "execution_count": 32,
   "id": "27710501-6256-45c8-8919-2cb4b44c9ca3",
   "metadata": {},
   "outputs": [
    {
     "data": {
      "text/html": [
       "<div>\n",
       "<style scoped>\n",
       "    .dataframe tbody tr th:only-of-type {\n",
       "        vertical-align: middle;\n",
       "    }\n",
       "\n",
       "    .dataframe tbody tr th {\n",
       "        vertical-align: top;\n",
       "    }\n",
       "\n",
       "    .dataframe thead th {\n",
       "        text-align: right;\n",
       "    }\n",
       "</style>\n",
       "<table border=\"1\" class=\"dataframe\">\n",
       "  <thead>\n",
       "    <tr style=\"text-align: right;\">\n",
       "      <th></th>\n",
       "      <th>0</th>\n",
       "      <th>1</th>\n",
       "      <th>2</th>\n",
       "      <th>3</th>\n",
       "      <th>4</th>\n",
       "      <th>5</th>\n",
       "      <th>6</th>\n",
       "      <th>7</th>\n",
       "      <th>8</th>\n",
       "      <th>9</th>\n",
       "      <th>...</th>\n",
       "      <th>4990</th>\n",
       "      <th>4991</th>\n",
       "      <th>4992</th>\n",
       "      <th>4993</th>\n",
       "      <th>4994</th>\n",
       "      <th>4995</th>\n",
       "      <th>4996</th>\n",
       "      <th>4997</th>\n",
       "      <th>4998</th>\n",
       "      <th>4999</th>\n",
       "    </tr>\n",
       "  </thead>\n",
       "  <tbody>\n",
       "    <tr>\n",
       "      <th>0</th>\n",
       "      <td>3.0</td>\n",
       "      <td>1.0</td>\n",
       "      <td>1.0</td>\n",
       "      <td>1.0</td>\n",
       "      <td>1.0</td>\n",
       "      <td>3.0</td>\n",
       "      <td>1.0</td>\n",
       "      <td>1.0</td>\n",
       "      <td>1.0</td>\n",
       "      <td>1.0</td>\n",
       "      <td>...</td>\n",
       "      <td>0.0</td>\n",
       "      <td>0.0</td>\n",
       "      <td>0.0</td>\n",
       "      <td>0.0</td>\n",
       "      <td>0.0</td>\n",
       "      <td>0.0</td>\n",
       "      <td>0.0</td>\n",
       "      <td>0.0</td>\n",
       "      <td>0.0</td>\n",
       "      <td>0.0</td>\n",
       "    </tr>\n",
       "    <tr>\n",
       "      <th>1</th>\n",
       "      <td>3.0</td>\n",
       "      <td>0.0</td>\n",
       "      <td>0.0</td>\n",
       "      <td>3.0</td>\n",
       "      <td>0.0</td>\n",
       "      <td>4.0</td>\n",
       "      <td>1.0</td>\n",
       "      <td>0.0</td>\n",
       "      <td>2.0</td>\n",
       "      <td>0.0</td>\n",
       "      <td>...</td>\n",
       "      <td>0.0</td>\n",
       "      <td>0.0</td>\n",
       "      <td>0.0</td>\n",
       "      <td>0.0</td>\n",
       "      <td>0.0</td>\n",
       "      <td>0.0</td>\n",
       "      <td>0.0</td>\n",
       "      <td>0.0</td>\n",
       "      <td>0.0</td>\n",
       "      <td>0.0</td>\n",
       "    </tr>\n",
       "  </tbody>\n",
       "</table>\n",
       "<p>2 rows × 5000 columns</p>\n",
       "</div>"
      ],
      "text/plain": [
       "   0     1     2     3     4     5     6     7     8     9     ...  4990  \\\n",
       "0   3.0   1.0   1.0   1.0   1.0   3.0   1.0   1.0   1.0   1.0  ...   0.0   \n",
       "1   3.0   0.0   0.0   3.0   0.0   4.0   1.0   0.0   2.0   0.0  ...   0.0   \n",
       "\n",
       "   4991  4992  4993  4994  4995  4996  4997  4998  4999  \n",
       "0   0.0   0.0   0.0   0.0   0.0   0.0   0.0   0.0   0.0  \n",
       "1   0.0   0.0   0.0   0.0   0.0   0.0   0.0   0.0   0.0  \n",
       "\n",
       "[2 rows x 5000 columns]"
      ]
     },
     "execution_count": 32,
     "metadata": {},
     "output_type": "execute_result"
    }
   ],
   "source": [
    "X.head(2)"
   ]
  },
  {
   "cell_type": "code",
   "execution_count": 33,
   "id": "e762c5cb-5ec6-43eb-aa7d-959cfe741d28",
   "metadata": {},
   "outputs": [
    {
     "data": {
      "text/plain": [
       "0    1\n",
       "1    1\n",
       "Name: sentiment, dtype: int64"
      ]
     },
     "execution_count": 33,
     "metadata": {},
     "output_type": "execute_result"
    }
   ],
   "source": [
    "y.head(2)"
   ]
  },
  {
   "cell_type": "code",
   "execution_count": 34,
   "id": "c2a3cfab-aee8-43ea-a98a-a30e3f7fff9d",
   "metadata": {},
   "outputs": [],
   "source": [
    "X_train, X_test, y_train, y_test = train_test_split(X,y, test_size= 0.2, random_state = 42)"
   ]
  },
  {
   "cell_type": "code",
   "execution_count": 35,
   "id": "a51d708b-a88a-4321-a7e6-81d3ce94ad6e",
   "metadata": {},
   "outputs": [
    {
     "name": "stdout",
     "output_type": "stream",
     "text": [
      "<class 'pandas.core.frame.DataFrame'>\n",
      "Int64Index: 40000 entries, 39087 to 15795\n",
      "Columns: 5000 entries, 0 to 4999\n",
      "dtypes: float64(5000)\n",
      "memory usage: 1.5 GB\n"
     ]
    }
   ],
   "source": [
    "X_train.info()"
   ]
  },
  {
   "cell_type": "code",
   "execution_count": 36,
   "id": "d1d46ba0-6020-4bd6-b6a2-877db2deacc9",
   "metadata": {},
   "outputs": [
    {
     "name": "stdout",
     "output_type": "stream",
     "text": [
      "<class 'pandas.core.series.Series'>\n",
      "Int64Index: 40000 entries, 39087 to 15795\n",
      "Series name: sentiment\n",
      "Non-Null Count  Dtype\n",
      "--------------  -----\n",
      "40000 non-null  int64\n",
      "dtypes: int64(1)\n",
      "memory usage: 625.0 KB\n"
     ]
    }
   ],
   "source": [
    "y_train.info()"
   ]
  },
  {
   "cell_type": "code",
   "execution_count": 37,
   "id": "89d8ccd4-67d1-4c1e-a5b1-7cac47401ea2",
   "metadata": {},
   "outputs": [],
   "source": [
    "y_train = y_train.astype('float64')\n",
    "y_test = y_test.astype('float64')"
   ]
  },
  {
   "cell_type": "code",
   "execution_count": 38,
   "id": "ddccf032-d1df-4132-89bf-95df7554005a",
   "metadata": {},
   "outputs": [
    {
     "name": "stdout",
     "output_type": "stream",
     "text": [
      "(40000, 5000)\n",
      "(10000, 5000)\n",
      "(40000,)\n",
      "(10000,)\n"
     ]
    }
   ],
   "source": [
    "print(X_train.shape)\n",
    "print(X_test.shape)\n",
    "print(y_train.shape)\n",
    "print(y_test.shape)"
   ]
  },
  {
   "cell_type": "markdown",
   "id": "b29ab2bb-5cfa-4977-8ab1-1f68e34c45bb",
   "metadata": {},
   "source": [
    "# Network Architecture"
   ]
  },
  {
   "cell_type": "code",
   "execution_count": 39,
   "id": "3f124da4-fc12-4c1b-8b10-89bc93213a0f",
   "metadata": {},
   "outputs": [],
   "source": [
    "model = tf.keras.Sequential([\n",
    "    tf.keras.layers.Dense(units=16, activation='relu',input_shape=(5000,)),\n",
    "    tf.keras.layers.Dense(units=16, activation='relu'),\n",
    "    tf.keras.layers.Dropout(0.2),\n",
    "    tf.keras.layers.Dense(units=1,activation='sigmoid')\n",
    "])"
   ]
  },
  {
   "cell_type": "code",
   "execution_count": 40,
   "id": "d0325c42-5f73-4129-99e1-1a2660ec9d49",
   "metadata": {},
   "outputs": [],
   "source": [
    "model.compile(optimizer='sgd',loss='binary_crossentropy',metrics=['accuracy', tf.keras.metrics.Recall(thresholds=0),])"
   ]
  },
  {
   "cell_type": "code",
   "execution_count": 41,
   "id": "1fe362a3-a07c-4cca-bdc3-286fa4c7483d",
   "metadata": {},
   "outputs": [
    {
     "name": "stdout",
     "output_type": "stream",
     "text": [
      "Model: \"sequential\"\n",
      "_________________________________________________________________\n",
      " Layer (type)                Output Shape              Param #   \n",
      "=================================================================\n",
      " dense (Dense)               (None, 16)                80016     \n",
      "                                                                 \n",
      " dense_1 (Dense)             (None, 16)                272       \n",
      "                                                                 \n",
      " dropout (Dropout)           (None, 16)                0         \n",
      "                                                                 \n",
      " dense_2 (Dense)             (None, 1)                 17        \n",
      "                                                                 \n",
      "=================================================================\n",
      "Total params: 80,305\n",
      "Trainable params: 80,305\n",
      "Non-trainable params: 0\n",
      "_________________________________________________________________\n"
     ]
    }
   ],
   "source": [
    "model.summary()"
   ]
  },
  {
   "cell_type": "markdown",
   "id": "57ac3f92-594b-4129-ad6d-80ce92a5c4d5",
   "metadata": {},
   "source": [
    "# model performance"
   ]
  },
  {
   "cell_type": "code",
   "execution_count": 42,
   "id": "b0b4730c-b24d-4361-8269-706025274d7c",
   "metadata": {},
   "outputs": [],
   "source": [
    "X_train_1 = X_train[3000:]\n",
    "X_val = X_train[:3000]\n",
    "y_train_1 = y_train[3000:]\n",
    "y_val = y_train[:3000]"
   ]
  },
  {
   "cell_type": "code",
   "execution_count": 43,
   "id": "e5fe8a22-03a3-4df2-803e-51349f940520",
   "metadata": {},
   "outputs": [
    {
     "name": "stdout",
     "output_type": "stream",
     "text": [
      "Epoch 1/50\n",
      "73/73 - 8s - loss: 0.6875 - accuracy: 0.5446 - recall: 1.0000 - val_loss: 0.6657 - val_accuracy: 0.6303 - val_recall: 1.0000 - 8s/epoch - 110ms/step\n",
      "Epoch 2/50\n",
      "73/73 - 1s - loss: 0.6543 - accuracy: 0.6295 - recall: 1.0000 - val_loss: 0.6287 - val_accuracy: 0.6847 - val_recall: 1.0000 - 1s/epoch - 16ms/step\n",
      "Epoch 3/50\n",
      "73/73 - 1s - loss: 0.6276 - accuracy: 0.6686 - recall: 1.0000 - val_loss: 0.5982 - val_accuracy: 0.7257 - val_recall: 1.0000 - 1s/epoch - 15ms/step\n",
      "Epoch 4/50\n",
      "73/73 - 1s - loss: 0.6050 - accuracy: 0.6951 - recall: 1.0000 - val_loss: 0.5761 - val_accuracy: 0.7453 - val_recall: 1.0000 - 1s/epoch - 14ms/step\n",
      "Epoch 5/50\n",
      "73/73 - 1s - loss: 0.5836 - accuracy: 0.7192 - recall: 1.0000 - val_loss: 0.5576 - val_accuracy: 0.7513 - val_recall: 1.0000 - 956ms/epoch - 13ms/step\n",
      "Epoch 6/50\n",
      "73/73 - 1s - loss: 0.5665 - accuracy: 0.7341 - recall: 1.0000 - val_loss: 0.5390 - val_accuracy: 0.7620 - val_recall: 1.0000 - 907ms/epoch - 12ms/step\n",
      "Epoch 7/50\n",
      "73/73 - 1s - loss: 0.5473 - accuracy: 0.7487 - recall: 1.0000 - val_loss: 0.5178 - val_accuracy: 0.7833 - val_recall: 1.0000 - 899ms/epoch - 12ms/step\n",
      "Epoch 8/50\n",
      "73/73 - 1s - loss: 0.5327 - accuracy: 0.7585 - recall: 1.0000 - val_loss: 0.5109 - val_accuracy: 0.7780 - val_recall: 1.0000 - 857ms/epoch - 12ms/step\n",
      "Epoch 9/50\n",
      "73/73 - 1s - loss: 0.5219 - accuracy: 0.7651 - recall: 1.0000 - val_loss: 0.4848 - val_accuracy: 0.7993 - val_recall: 1.0000 - 1s/epoch - 14ms/step\n",
      "Epoch 10/50\n",
      "73/73 - 1s - loss: 0.5183 - accuracy: 0.7686 - recall: 1.0000 - val_loss: 0.4828 - val_accuracy: 0.7990 - val_recall: 1.0000 - 1s/epoch - 16ms/step\n",
      "Epoch 11/50\n",
      "73/73 - 1s - loss: 0.5059 - accuracy: 0.7762 - recall: 1.0000 - val_loss: 0.4606 - val_accuracy: 0.8120 - val_recall: 1.0000 - 1s/epoch - 17ms/step\n",
      "Epoch 12/50\n",
      "73/73 - 1s - loss: 0.5061 - accuracy: 0.7745 - recall: 1.0000 - val_loss: 0.4681 - val_accuracy: 0.8023 - val_recall: 1.0000 - 1s/epoch - 16ms/step\n",
      "Epoch 13/50\n",
      "73/73 - 1s - loss: 0.4839 - accuracy: 0.7867 - recall: 1.0000 - val_loss: 0.4454 - val_accuracy: 0.8197 - val_recall: 1.0000 - 1s/epoch - 16ms/step\n",
      "Epoch 14/50\n",
      "73/73 - 1s - loss: 0.4847 - accuracy: 0.7855 - recall: 1.0000 - val_loss: 0.4594 - val_accuracy: 0.8057 - val_recall: 1.0000 - 1s/epoch - 16ms/step\n",
      "Epoch 15/50\n",
      "73/73 - 1s - loss: 0.4684 - accuracy: 0.7969 - recall: 1.0000 - val_loss: 0.4612 - val_accuracy: 0.8007 - val_recall: 1.0000 - 1s/epoch - 16ms/step\n",
      "Epoch 16/50\n",
      "73/73 - 1s - loss: 0.4723 - accuracy: 0.7941 - recall: 1.0000 - val_loss: 0.4250 - val_accuracy: 0.8237 - val_recall: 1.0000 - 1s/epoch - 16ms/step\n",
      "Epoch 17/50\n",
      "73/73 - 1s - loss: 0.4597 - accuracy: 0.8029 - recall: 1.0000 - val_loss: 0.4266 - val_accuracy: 0.8267 - val_recall: 1.0000 - 1s/epoch - 17ms/step\n",
      "Epoch 18/50\n",
      "73/73 - 1s - loss: 0.4492 - accuracy: 0.8081 - recall: 1.0000 - val_loss: 0.4123 - val_accuracy: 0.8330 - val_recall: 1.0000 - 1s/epoch - 17ms/step\n",
      "Epoch 19/50\n",
      "73/73 - 1s - loss: 0.4421 - accuracy: 0.8092 - recall: 1.0000 - val_loss: 0.4020 - val_accuracy: 0.8330 - val_recall: 1.0000 - 1s/epoch - 18ms/step\n",
      "Epoch 20/50\n",
      "73/73 - 1s - loss: 0.4444 - accuracy: 0.8112 - recall: 1.0000 - val_loss: 0.4766 - val_accuracy: 0.7850 - val_recall: 1.0000 - 1s/epoch - 18ms/step\n",
      "Epoch 21/50\n",
      "73/73 - 1s - loss: 0.4354 - accuracy: 0.8134 - recall: 1.0000 - val_loss: 0.4009 - val_accuracy: 0.8347 - val_recall: 1.0000 - 1s/epoch - 16ms/step\n",
      "Epoch 22/50\n",
      "73/73 - 1s - loss: 0.4296 - accuracy: 0.8163 - recall: 1.0000 - val_loss: 0.4675 - val_accuracy: 0.7857 - val_recall: 1.0000 - 896ms/epoch - 12ms/step\n",
      "Epoch 23/50\n",
      "73/73 - 1s - loss: 0.4241 - accuracy: 0.8206 - recall: 1.0000 - val_loss: 0.4043 - val_accuracy: 0.8287 - val_recall: 1.0000 - 945ms/epoch - 13ms/step\n",
      "Epoch 24/50\n",
      "73/73 - 1s - loss: 0.4207 - accuracy: 0.8210 - recall: 1.0000 - val_loss: 0.4000 - val_accuracy: 0.8253 - val_recall: 1.0000 - 1s/epoch - 15ms/step\n",
      "Epoch 25/50\n",
      "73/73 - 1s - loss: 0.4140 - accuracy: 0.8232 - recall: 1.0000 - val_loss: 0.4101 - val_accuracy: 0.8207 - val_recall: 1.0000 - 1s/epoch - 15ms/step\n",
      "Epoch 26/50\n",
      "73/73 - 1s - loss: 0.4131 - accuracy: 0.8246 - recall: 1.0000 - val_loss: 0.3780 - val_accuracy: 0.8420 - val_recall: 1.0000 - 1s/epoch - 15ms/step\n",
      "Epoch 27/50\n",
      "73/73 - 1s - loss: 0.4130 - accuracy: 0.8270 - recall: 1.0000 - val_loss: 0.3746 - val_accuracy: 0.8453 - val_recall: 1.0000 - 1s/epoch - 16ms/step\n",
      "Epoch 28/50\n",
      "73/73 - 1s - loss: 0.4034 - accuracy: 0.8305 - recall: 1.0000 - val_loss: 0.3636 - val_accuracy: 0.8470 - val_recall: 1.0000 - 1s/epoch - 19ms/step\n",
      "Epoch 29/50\n",
      "73/73 - 1s - loss: 0.3992 - accuracy: 0.8304 - recall: 1.0000 - val_loss: 0.3801 - val_accuracy: 0.8443 - val_recall: 1.0000 - 1s/epoch - 19ms/step\n",
      "Epoch 30/50\n",
      "73/73 - 1s - loss: 0.3939 - accuracy: 0.8348 - recall: 1.0000 - val_loss: 0.3576 - val_accuracy: 0.8477 - val_recall: 1.0000 - 1s/epoch - 17ms/step\n",
      "Epoch 31/50\n",
      "73/73 - 1s - loss: 0.3879 - accuracy: 0.8379 - recall: 1.0000 - val_loss: 0.4935 - val_accuracy: 0.7730 - val_recall: 1.0000 - 1s/epoch - 16ms/step\n",
      "Epoch 32/50\n",
      "73/73 - 1s - loss: 0.3862 - accuracy: 0.8383 - recall: 1.0000 - val_loss: 0.3499 - val_accuracy: 0.8497 - val_recall: 1.0000 - 1s/epoch - 19ms/step\n",
      "Epoch 33/50\n",
      "73/73 - 2s - loss: 0.3876 - accuracy: 0.8381 - recall: 1.0000 - val_loss: 0.3628 - val_accuracy: 0.8450 - val_recall: 1.0000 - 2s/epoch - 25ms/step\n",
      "Epoch 34/50\n",
      "73/73 - 1s - loss: 0.3789 - accuracy: 0.8418 - recall: 1.0000 - val_loss: 0.5555 - val_accuracy: 0.7557 - val_recall: 1.0000 - 1s/epoch - 17ms/step\n",
      "Epoch 35/50\n",
      "73/73 - 1s - loss: 0.3799 - accuracy: 0.8392 - recall: 1.0000 - val_loss: 0.3496 - val_accuracy: 0.8500 - val_recall: 1.0000 - 1s/epoch - 15ms/step\n",
      "Epoch 36/50\n",
      "73/73 - 1s - loss: 0.3740 - accuracy: 0.8433 - recall: 1.0000 - val_loss: 0.3430 - val_accuracy: 0.8553 - val_recall: 1.0000 - 954ms/epoch - 13ms/step\n",
      "Epoch 37/50\n",
      "73/73 - 1s - loss: 0.3768 - accuracy: 0.8406 - recall: 1.0000 - val_loss: 0.3892 - val_accuracy: 0.8257 - val_recall: 1.0000 - 1s/epoch - 16ms/step\n",
      "Epoch 38/50\n",
      "73/73 - 1s - loss: 0.3776 - accuracy: 0.8397 - recall: 1.0000 - val_loss: 0.3379 - val_accuracy: 0.8547 - val_recall: 1.0000 - 1s/epoch - 20ms/step\n",
      "Epoch 39/50\n",
      "73/73 - 1s - loss: 0.3665 - accuracy: 0.8466 - recall: 1.0000 - val_loss: 0.3536 - val_accuracy: 0.8560 - val_recall: 1.0000 - 1s/epoch - 16ms/step\n",
      "Epoch 40/50\n",
      "73/73 - 1s - loss: 0.3553 - accuracy: 0.8526 - recall: 1.0000 - val_loss: 0.4931 - val_accuracy: 0.7720 - val_recall: 1.0000 - 923ms/epoch - 13ms/step\n",
      "Epoch 41/50\n",
      "73/73 - 1s - loss: 0.3776 - accuracy: 0.8408 - recall: 1.0000 - val_loss: 0.3403 - val_accuracy: 0.8577 - val_recall: 1.0000 - 1s/epoch - 15ms/step\n",
      "Epoch 42/50\n",
      "73/73 - 1s - loss: 0.3627 - accuracy: 0.8501 - recall: 1.0000 - val_loss: 0.5608 - val_accuracy: 0.7507 - val_recall: 1.0000 - 1s/epoch - 15ms/step\n",
      "Epoch 43/50\n",
      "73/73 - 1s - loss: 0.3633 - accuracy: 0.8501 - recall: 1.0000 - val_loss: 0.3924 - val_accuracy: 0.8323 - val_recall: 1.0000 - 1s/epoch - 18ms/step\n",
      "Epoch 44/50\n",
      "73/73 - 1s - loss: 0.3561 - accuracy: 0.8498 - recall: 1.0000 - val_loss: 0.3917 - val_accuracy: 0.8297 - val_recall: 1.0000 - 1s/epoch - 19ms/step\n",
      "Epoch 45/50\n",
      "73/73 - 1s - loss: 0.3588 - accuracy: 0.8491 - recall: 1.0000 - val_loss: 0.3246 - val_accuracy: 0.8630 - val_recall: 1.0000 - 1s/epoch - 18ms/step\n",
      "Epoch 46/50\n",
      "73/73 - 1s - loss: 0.3472 - accuracy: 0.8558 - recall: 1.0000 - val_loss: 0.3564 - val_accuracy: 0.8410 - val_recall: 1.0000 - 1s/epoch - 18ms/step\n",
      "Epoch 47/50\n",
      "73/73 - 2s - loss: 0.3515 - accuracy: 0.8533 - recall: 1.0000 - val_loss: 0.3546 - val_accuracy: 0.8507 - val_recall: 1.0000 - 2s/epoch - 21ms/step\n",
      "Epoch 48/50\n",
      "73/73 - 1s - loss: 0.3462 - accuracy: 0.8545 - recall: 1.0000 - val_loss: 0.3724 - val_accuracy: 0.8423 - val_recall: 1.0000 - 1s/epoch - 19ms/step\n",
      "Epoch 49/50\n",
      "73/73 - 1s - loss: 0.3419 - accuracy: 0.8563 - recall: 1.0000 - val_loss: 0.5218 - val_accuracy: 0.7580 - val_recall: 1.0000 - 1s/epoch - 16ms/step\n",
      "Epoch 50/50\n",
      "73/73 - 1s - loss: 0.3462 - accuracy: 0.8561 - recall: 1.0000 - val_loss: 0.3564 - val_accuracy: 0.8593 - val_recall: 1.0000 - 1s/epoch - 15ms/step\n"
     ]
    }
   ],
   "source": [
    "h = model.fit(\n",
    "        x=X_train_1, \n",
    "        y=y_train_1,\n",
    "        epochs = 50,\n",
    "        batch_size = 512,\n",
    "        validation_data=(X_val, y_val),\n",
    "        verbose= 2\n",
    "             )"
   ]
  },
  {
   "cell_type": "code",
   "execution_count": 44,
   "id": "cb76a399-559c-4249-b056-7a378cd453cb",
   "metadata": {},
   "outputs": [
    {
     "data": {
      "text/plain": [
       "<matplotlib.legend.Legend at 0x176069ba340>"
      ]
     },
     "execution_count": 44,
     "metadata": {},
     "output_type": "execute_result"
    },
    {
     "data": {
      "image/png": "[encoded data removed]",
      "text/plain": [
       "<Figure size 432x288 with 1 Axes>"
      ]
     },
     "metadata": {
      "needs_background": "light"
     },
     "output_type": "display_data"
    }
   ],
   "source": [
    "plt.plot(h.history['loss'], label='training loss')\n",
    "plt.plot(h.history['val_loss'], label='validation loss')\n",
    "plt.xlabel('Epoch')\n",
    "plt.ylabel('Loss')\n",
    "plt.legend()"
   ]
  },
  {
   "cell_type": "code",
   "execution_count": 45,
   "id": "5d26d9d9-29f3-4585-95b2-c1eefd785a1a",
   "metadata": {},
   "outputs": [
    {
     "data": {
      "text/plain": [
       "<matplotlib.legend.Legend at 0x17608302fd0>"
      ]
     },
     "execution_count": 45,
     "metadata": {},
     "output_type": "execute_result"
    },
    {
     "data": {
      "image/png": "[encoded data removed]",
      "text/plain": [
       "<Figure size 432x288 with 1 Axes>"
      ]
     },
     "metadata": {
      "needs_background": "light"
     },
     "output_type": "display_data"
    }
   ],
   "source": [
    "plt.plot(h.history['accuracy'], label='training accuracy')\n",
    "plt.plot(h.history['val_accuracy'], label='validation accuracy')\n",
    "plt.xlabel('Epoch')\n",
    "plt.ylabel('Accuracy')\n",
    "plt.legend()"
   ]
  },
  {
   "cell_type": "code",
   "execution_count": 46,
   "id": "bd805b4d-35c8-4f34-b062-c01c8d83f155",
   "metadata": {},
   "outputs": [
    {
     "name": "stdout",
     "output_type": "stream",
     "text": [
      " Accuracy: {'model': [0.3570615351200104, 0.8521000146865845, 1.0]}\n"
     ]
    }
   ],
   "source": [
    "test_results = {}\n",
    "\n",
    "test_results['model'] = model.evaluate(\n",
    "    X_test, y_test, verbose=0)\n",
    "\n",
    "print(f\" Accuracy: {test_results}\")"
   ]
  },
  {
   "cell_type": "markdown",
   "id": "48ba7bc8-0dae-4d40-89b0-184d37e49ad7",
   "metadata": {},
   "source": [
    "https://www.freecodecamp.org/news/how-to-evaluate-machine-learning-models-using-tensorboard/"
   ]
  },
  {
   "cell_type": "code",
   "execution_count": null,
   "id": "e75f18d9-40f9-4580-9750-a6e8daaabbe1",
   "metadata": {},
   "outputs": [],
   "source": [
    "# precision and recall\n"
   ]
  }
 ],
 "metadata": {
  "kernelspec": {
   "display_name": "Python 3 (ipykernel)",
   "language": "python",
   "name": "python3"
  },
  "language_info": {
   "codemirror_mode": {
    "name": "ipython",
    "version": 3
   },
   "file_extension": ".py",
   "mimetype": "text/x-python",
   "name": "python",
   "nbconvert_exporter": "python",
   "pygments_lexer": "ipython3",
   "version": "3.9.12"
  }
 },
 "nbformat": 4,
 "nbformat_minor": 5
}
